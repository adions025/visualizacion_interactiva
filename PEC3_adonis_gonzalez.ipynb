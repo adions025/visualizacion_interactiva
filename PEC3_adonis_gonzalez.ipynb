{
 "cells": [
  {
   "cell_type": "markdown",
   "id": "previous-transcript",
   "metadata": {},
   "source": [
    "<div style=\"width: 100%; clear: both;\">\n",
    "<div style=\"float: left; width: 50%;\">\n",
    "<img src=\"http://www.uoc.edu/portal/_resources/common/imatges/marca_UOC/UOC_Masterbrand.jpg\", align=\"left\">\n",
    "</div>\n",
    "<div style=\"float: right; width: 50%;\">\n",
    "<p style=\"margin: 0; padding-top: 22px; text-align:right;\">M2.859 · Visualización de datos aula 2</p>\n",
    "<p style=\"margin: 0; text-align:right;\">2020-2 · Máster universitario en Ciencia de datos (Data science)</p>\n",
    "<p style=\"margin: 0; text-align:right; padding-button: 100px;\">Estudios de Informática, Multimedia y Telecomunicación</p>\n",
    "<p style=\"margin: 0; text-align:right; padding-button: 100px; font-weight: bold;\">Nombre: Adonis González Godoy</p>\n",
    "</div>\n",
    "</div>\n",
    "<div style=\"width:100%;\">&nbsp;</div>"
   ]
  },
  {
   "cell_type": "markdown",
   "id": "lesser-russia",
   "metadata": {},
   "source": [
    "# PEC 3: Visualización interactiva"
   ]
  },
  {
   "cell_type": "markdown",
   "id": "preliminary-sustainability",
   "metadata": {},
   "source": [
    "# 1. Descripción de los datos seleccionados"
   ]
  },
  {
   "cell_type": "markdown",
   "id": "polish-louis",
   "metadata": {},
   "source": [
    "Los dataset seleccionados para esta pec son los siguientes:\n",
    "\n",
    "- **Data on the daily number of new reported COVID-19 cases and deaths by EU/EEA country**\n",
    "- **Data on COVID-19 vaccination in the EU/EEA**\n",
    "\n",
    "Los datos han sido descargados desde la página oficina **European Centre for Disease Prevention and Control**.  Los datos son públicos siempre que se reconozca al CEPCE como la fuente original del material. Los datos proceden de Eurostat para los países de la UE/EEE. La última fecha registrada de actualización de los datos fue el día 13 de Mayo del 2021.\n",
    "\n",
    "El primer dataset se encuentra disponible en la siguiente URL: (https://www.ecdc.europa.eu/en/publications-data/data-daily-new-cases-covid-19-eueea-country). Esta base de datos contiene  los últimos datos públicos disponibles sobre COVID-19. Cada fila/entrada contiene el número de nuevos casos y muertes notificados por día y por país en la UE/EEE. Las políticas de detección y el número de pruebas realizadas por cada 100.000 personas varían notablemente.\n",
    "\n",
    "El segundo dataset se encuentra disponible en la siguiente URL: (https://www.ecdc.europa.eu/en/publications-data/data-covid-19-vaccination-eu-eea) y contiene la información sobre la vacunación contra COVID-19 en la UE/EEE. Los datos presentados en el Rastreador de Vacunas son enviados por los países de la Unión Europea/Espacio Económico Europeo (UE/EEE) al ECDC a través del Sistema Europeo de Vigilancia dos veces por semana (martes y viernes). Los países de la UE/EEE comunican datos agregados sobre el número de dosis de vacunas distribuidas por los fabricantes en el país, el número de primeras, segundas y no especificadas dosis administradas en la población adulta (mayor de 18 años) en general, por grupos de edad y en grupos específicos, como los trabajadores sanitarios y los residentes en centros de atención a largo plazo. También se informa de las dosis por producto vacunal. "
   ]
  },
  {
   "cell_type": "markdown",
   "id": "productive-hughes",
   "metadata": {},
   "source": [
    "# 2.  Los datos"
   ]
  },
  {
   "cell_type": "markdown",
   "id": "entertaining-limit",
   "metadata": {},
   "source": [
    "Cargamos las librerias necesarias."
   ]
  },
  {
   "cell_type": "code",
   "execution_count": 1,
   "id": "identical-modern",
   "metadata": {},
   "outputs": [],
   "source": [
    "import numpy as np \n",
    "import pandas as pd\n",
    "import seaborn as sns\n",
    "from seaborn import boxplot\n",
    "import matplotlib.pyplot as plt\n",
    "import os\n",
    "\n",
    "import warnings\n",
    "warnings.filterwarnings(\"ignore\")"
   ]
  },
  {
   "cell_type": "markdown",
   "id": "considered-prevention",
   "metadata": {},
   "source": [
    "Cargamos el conjunto de datos."
   ]
  },
  {
   "cell_type": "code",
   "execution_count": 2,
   "id": "comparative-halloween",
   "metadata": {},
   "outputs": [],
   "source": [
    "ROOT_DIR = os.path.abspath(\"\")\n",
    "DATA_DIR = os.path.join(ROOT_DIR, \"data\")\n",
    "\n",
    "data_vaccinations = os.path.join(DATA_DIR, \"data_covid_vaccination.csv\")\n",
    "data_daily_report = os.path.join(DATA_DIR, \"data_daily_number_of_reported_covid.csv\")"
   ]
  },
  {
   "cell_type": "code",
   "execution_count": 3,
   "id": "bright-champagne",
   "metadata": {},
   "outputs": [],
   "source": [
    "df_vaccinations = pd.read_csv(data_vaccinations)\n",
    "df_daily_report = pd.read_csv(data_daily_report)"
   ]
  },
  {
   "cell_type": "markdown",
   "id": "bearing-feature",
   "metadata": {},
   "source": [
    "Tenemos un primer contacto con el dataset, mostramos las primeras filas."
   ]
  },
  {
   "cell_type": "code",
   "execution_count": 4,
   "id": "annoying-initial",
   "metadata": {},
   "outputs": [
    {
     "data": {
      "text/html": [
       "<div>\n",
       "<style scoped>\n",
       "    .dataframe tbody tr th:only-of-type {\n",
       "        vertical-align: middle;\n",
       "    }\n",
       "\n",
       "    .dataframe tbody tr th {\n",
       "        vertical-align: top;\n",
       "    }\n",
       "\n",
       "    .dataframe thead th {\n",
       "        text-align: right;\n",
       "    }\n",
       "</style>\n",
       "<table border=\"1\" class=\"dataframe\">\n",
       "  <thead>\n",
       "    <tr style=\"text-align: right;\">\n",
       "      <th></th>\n",
       "      <th>YearWeekISO</th>\n",
       "      <th>FirstDose</th>\n",
       "      <th>FirstDoseRefused</th>\n",
       "      <th>SecondDose</th>\n",
       "      <th>UnknownDose</th>\n",
       "      <th>NumberDosesReceived</th>\n",
       "      <th>Region</th>\n",
       "      <th>Population</th>\n",
       "      <th>ReportingCountry</th>\n",
       "      <th>TargetGroup</th>\n",
       "      <th>Vaccine</th>\n",
       "      <th>Denominator</th>\n",
       "    </tr>\n",
       "  </thead>\n",
       "  <tbody>\n",
       "    <tr>\n",
       "      <th>0</th>\n",
       "      <td>2020-W53</td>\n",
       "      <td>0</td>\n",
       "      <td>0.0</td>\n",
       "      <td>0</td>\n",
       "      <td>0</td>\n",
       "      <td>0.0</td>\n",
       "      <td>AT</td>\n",
       "      <td>8901064</td>\n",
       "      <td>AT</td>\n",
       "      <td>1_Age60+</td>\n",
       "      <td>MOD</td>\n",
       "      <td>2259262.0</td>\n",
       "    </tr>\n",
       "    <tr>\n",
       "      <th>1</th>\n",
       "      <td>2020-W53</td>\n",
       "      <td>2659</td>\n",
       "      <td>0.0</td>\n",
       "      <td>0</td>\n",
       "      <td>0</td>\n",
       "      <td>61425.0</td>\n",
       "      <td>AT</td>\n",
       "      <td>8901064</td>\n",
       "      <td>AT</td>\n",
       "      <td>1_Age60+</td>\n",
       "      <td>COM</td>\n",
       "      <td>2259262.0</td>\n",
       "    </tr>\n",
       "    <tr>\n",
       "      <th>2</th>\n",
       "      <td>2020-W53</td>\n",
       "      <td>0</td>\n",
       "      <td>0.0</td>\n",
       "      <td>0</td>\n",
       "      <td>0</td>\n",
       "      <td>0.0</td>\n",
       "      <td>AT</td>\n",
       "      <td>8901064</td>\n",
       "      <td>AT</td>\n",
       "      <td>1_Age60+</td>\n",
       "      <td>JANSS</td>\n",
       "      <td>2259262.0</td>\n",
       "    </tr>\n",
       "    <tr>\n",
       "      <th>3</th>\n",
       "      <td>2020-W53</td>\n",
       "      <td>0</td>\n",
       "      <td>0.0</td>\n",
       "      <td>0</td>\n",
       "      <td>0</td>\n",
       "      <td>0.0</td>\n",
       "      <td>AT</td>\n",
       "      <td>8901064</td>\n",
       "      <td>AT</td>\n",
       "      <td>1_Age60+</td>\n",
       "      <td>AZ</td>\n",
       "      <td>2259262.0</td>\n",
       "    </tr>\n",
       "    <tr>\n",
       "      <th>4</th>\n",
       "      <td>2020-W53</td>\n",
       "      <td>0</td>\n",
       "      <td>0.0</td>\n",
       "      <td>0</td>\n",
       "      <td>0</td>\n",
       "      <td>0.0</td>\n",
       "      <td>AT</td>\n",
       "      <td>8901064</td>\n",
       "      <td>AT</td>\n",
       "      <td>1_Age&lt;60</td>\n",
       "      <td>MOD</td>\n",
       "      <td>5099181.0</td>\n",
       "    </tr>\n",
       "    <tr>\n",
       "      <th>...</th>\n",
       "      <td>...</td>\n",
       "      <td>...</td>\n",
       "      <td>...</td>\n",
       "      <td>...</td>\n",
       "      <td>...</td>\n",
       "      <td>...</td>\n",
       "      <td>...</td>\n",
       "      <td>...</td>\n",
       "      <td>...</td>\n",
       "      <td>...</td>\n",
       "      <td>...</td>\n",
       "      <td>...</td>\n",
       "    </tr>\n",
       "    <tr>\n",
       "      <th>95</th>\n",
       "      <td>2021-W02</td>\n",
       "      <td>0</td>\n",
       "      <td>0.0</td>\n",
       "      <td>0</td>\n",
       "      <td>0</td>\n",
       "      <td>0.0</td>\n",
       "      <td>AT</td>\n",
       "      <td>8901064</td>\n",
       "      <td>AT</td>\n",
       "      <td>Age50_59</td>\n",
       "      <td>AZ</td>\n",
       "      <td>1396889.0</td>\n",
       "    </tr>\n",
       "    <tr>\n",
       "      <th>96</th>\n",
       "      <td>2021-W02</td>\n",
       "      <td>5</td>\n",
       "      <td>0.0</td>\n",
       "      <td>0</td>\n",
       "      <td>0</td>\n",
       "      <td>0.0</td>\n",
       "      <td>AT</td>\n",
       "      <td>8901064</td>\n",
       "      <td>AT</td>\n",
       "      <td>Age60_69</td>\n",
       "      <td>MOD</td>\n",
       "      <td>1016016.0</td>\n",
       "    </tr>\n",
       "    <tr>\n",
       "      <th>97</th>\n",
       "      <td>2021-W02</td>\n",
       "      <td>0</td>\n",
       "      <td>0.0</td>\n",
       "      <td>0</td>\n",
       "      <td>0</td>\n",
       "      <td>0.0</td>\n",
       "      <td>AT</td>\n",
       "      <td>8901064</td>\n",
       "      <td>AT</td>\n",
       "      <td>Age60_69</td>\n",
       "      <td>JANSS</td>\n",
       "      <td>1016016.0</td>\n",
       "    </tr>\n",
       "    <tr>\n",
       "      <th>98</th>\n",
       "      <td>2021-W02</td>\n",
       "      <td>8804</td>\n",
       "      <td>0.0</td>\n",
       "      <td>40</td>\n",
       "      <td>0</td>\n",
       "      <td>61425.0</td>\n",
       "      <td>AT</td>\n",
       "      <td>8901064</td>\n",
       "      <td>AT</td>\n",
       "      <td>Age60_69</td>\n",
       "      <td>COM</td>\n",
       "      <td>1016016.0</td>\n",
       "    </tr>\n",
       "    <tr>\n",
       "      <th>99</th>\n",
       "      <td>2021-W02</td>\n",
       "      <td>0</td>\n",
       "      <td>0.0</td>\n",
       "      <td>0</td>\n",
       "      <td>0</td>\n",
       "      <td>0.0</td>\n",
       "      <td>AT</td>\n",
       "      <td>8901064</td>\n",
       "      <td>AT</td>\n",
       "      <td>Age60_69</td>\n",
       "      <td>AZ</td>\n",
       "      <td>1016016.0</td>\n",
       "    </tr>\n",
       "  </tbody>\n",
       "</table>\n",
       "<p>100 rows × 12 columns</p>\n",
       "</div>"
      ],
      "text/plain": [
       "   YearWeekISO  FirstDose  FirstDoseRefused  SecondDose  UnknownDose  \\\n",
       "0     2020-W53          0               0.0           0            0   \n",
       "1     2020-W53       2659               0.0           0            0   \n",
       "2     2020-W53          0               0.0           0            0   \n",
       "3     2020-W53          0               0.0           0            0   \n",
       "4     2020-W53          0               0.0           0            0   \n",
       "..         ...        ...               ...         ...          ...   \n",
       "95    2021-W02          0               0.0           0            0   \n",
       "96    2021-W02          5               0.0           0            0   \n",
       "97    2021-W02          0               0.0           0            0   \n",
       "98    2021-W02       8804               0.0          40            0   \n",
       "99    2021-W02          0               0.0           0            0   \n",
       "\n",
       "    NumberDosesReceived Region  Population ReportingCountry TargetGroup  \\\n",
       "0                   0.0     AT     8901064               AT    1_Age60+   \n",
       "1               61425.0     AT     8901064               AT    1_Age60+   \n",
       "2                   0.0     AT     8901064               AT    1_Age60+   \n",
       "3                   0.0     AT     8901064               AT    1_Age60+   \n",
       "4                   0.0     AT     8901064               AT    1_Age<60   \n",
       "..                  ...    ...         ...              ...         ...   \n",
       "95                  0.0     AT     8901064               AT    Age50_59   \n",
       "96                  0.0     AT     8901064               AT    Age60_69   \n",
       "97                  0.0     AT     8901064               AT    Age60_69   \n",
       "98              61425.0     AT     8901064               AT    Age60_69   \n",
       "99                  0.0     AT     8901064               AT    Age60_69   \n",
       "\n",
       "   Vaccine  Denominator  \n",
       "0      MOD    2259262.0  \n",
       "1      COM    2259262.0  \n",
       "2    JANSS    2259262.0  \n",
       "3       AZ    2259262.0  \n",
       "4      MOD    5099181.0  \n",
       "..     ...          ...  \n",
       "95      AZ    1396889.0  \n",
       "96     MOD    1016016.0  \n",
       "97   JANSS    1016016.0  \n",
       "98     COM    1016016.0  \n",
       "99      AZ    1016016.0  \n",
       "\n",
       "[100 rows x 12 columns]"
      ]
     },
     "execution_count": 4,
     "metadata": {},
     "output_type": "execute_result"
    }
   ],
   "source": [
    "df_vaccinations.head(100)"
   ]
  },
  {
   "cell_type": "code",
   "execution_count": 5,
   "id": "ideal-effort",
   "metadata": {},
   "outputs": [
    {
     "data": {
      "text/html": [
       "<div>\n",
       "<style scoped>\n",
       "    .dataframe tbody tr th:only-of-type {\n",
       "        vertical-align: middle;\n",
       "    }\n",
       "\n",
       "    .dataframe tbody tr th {\n",
       "        vertical-align: top;\n",
       "    }\n",
       "\n",
       "    .dataframe thead th {\n",
       "        text-align: right;\n",
       "    }\n",
       "</style>\n",
       "<table border=\"1\" class=\"dataframe\">\n",
       "  <thead>\n",
       "    <tr style=\"text-align: right;\">\n",
       "      <th></th>\n",
       "      <th>dateRep</th>\n",
       "      <th>day</th>\n",
       "      <th>month</th>\n",
       "      <th>year</th>\n",
       "      <th>cases</th>\n",
       "      <th>deaths</th>\n",
       "      <th>countriesAndTerritories</th>\n",
       "      <th>geoId</th>\n",
       "      <th>countryterritoryCode</th>\n",
       "      <th>popData2020</th>\n",
       "      <th>continentExp</th>\n",
       "    </tr>\n",
       "  </thead>\n",
       "  <tbody>\n",
       "    <tr>\n",
       "      <th>0</th>\n",
       "      <td>15/05/2021</td>\n",
       "      <td>15</td>\n",
       "      <td>5</td>\n",
       "      <td>2021</td>\n",
       "      <td>721</td>\n",
       "      <td>14</td>\n",
       "      <td>Austria</td>\n",
       "      <td>AT</td>\n",
       "      <td>AUT</td>\n",
       "      <td>8901064</td>\n",
       "      <td>Europe</td>\n",
       "    </tr>\n",
       "    <tr>\n",
       "      <th>1</th>\n",
       "      <td>14/05/2021</td>\n",
       "      <td>14</td>\n",
       "      <td>5</td>\n",
       "      <td>2021</td>\n",
       "      <td>1100</td>\n",
       "      <td>11</td>\n",
       "      <td>Austria</td>\n",
       "      <td>AT</td>\n",
       "      <td>AUT</td>\n",
       "      <td>8901064</td>\n",
       "      <td>Europe</td>\n",
       "    </tr>\n",
       "    <tr>\n",
       "      <th>2</th>\n",
       "      <td>13/05/2021</td>\n",
       "      <td>13</td>\n",
       "      <td>5</td>\n",
       "      <td>2021</td>\n",
       "      <td>1179</td>\n",
       "      <td>14</td>\n",
       "      <td>Austria</td>\n",
       "      <td>AT</td>\n",
       "      <td>AUT</td>\n",
       "      <td>8901064</td>\n",
       "      <td>Europe</td>\n",
       "    </tr>\n",
       "    <tr>\n",
       "      <th>3</th>\n",
       "      <td>12/05/2021</td>\n",
       "      <td>12</td>\n",
       "      <td>5</td>\n",
       "      <td>2021</td>\n",
       "      <td>968</td>\n",
       "      <td>19</td>\n",
       "      <td>Austria</td>\n",
       "      <td>AT</td>\n",
       "      <td>AUT</td>\n",
       "      <td>8901064</td>\n",
       "      <td>Europe</td>\n",
       "    </tr>\n",
       "    <tr>\n",
       "      <th>4</th>\n",
       "      <td>11/05/2021</td>\n",
       "      <td>11</td>\n",
       "      <td>5</td>\n",
       "      <td>2021</td>\n",
       "      <td>670</td>\n",
       "      <td>16</td>\n",
       "      <td>Austria</td>\n",
       "      <td>AT</td>\n",
       "      <td>AUT</td>\n",
       "      <td>8901064</td>\n",
       "      <td>Europe</td>\n",
       "    </tr>\n",
       "    <tr>\n",
       "      <th>5</th>\n",
       "      <td>10/05/2021</td>\n",
       "      <td>10</td>\n",
       "      <td>5</td>\n",
       "      <td>2021</td>\n",
       "      <td>1009</td>\n",
       "      <td>11</td>\n",
       "      <td>Austria</td>\n",
       "      <td>AT</td>\n",
       "      <td>AUT</td>\n",
       "      <td>8901064</td>\n",
       "      <td>Europe</td>\n",
       "    </tr>\n",
       "    <tr>\n",
       "      <th>6</th>\n",
       "      <td>09/05/2021</td>\n",
       "      <td>9</td>\n",
       "      <td>5</td>\n",
       "      <td>2021</td>\n",
       "      <td>1251</td>\n",
       "      <td>14</td>\n",
       "      <td>Austria</td>\n",
       "      <td>AT</td>\n",
       "      <td>AUT</td>\n",
       "      <td>8901064</td>\n",
       "      <td>Europe</td>\n",
       "    </tr>\n",
       "    <tr>\n",
       "      <th>7</th>\n",
       "      <td>08/05/2021</td>\n",
       "      <td>8</td>\n",
       "      <td>5</td>\n",
       "      <td>2021</td>\n",
       "      <td>1383</td>\n",
       "      <td>23</td>\n",
       "      <td>Austria</td>\n",
       "      <td>AT</td>\n",
       "      <td>AUT</td>\n",
       "      <td>8901064</td>\n",
       "      <td>Europe</td>\n",
       "    </tr>\n",
       "    <tr>\n",
       "      <th>8</th>\n",
       "      <td>07/05/2021</td>\n",
       "      <td>7</td>\n",
       "      <td>5</td>\n",
       "      <td>2021</td>\n",
       "      <td>1220</td>\n",
       "      <td>8</td>\n",
       "      <td>Austria</td>\n",
       "      <td>AT</td>\n",
       "      <td>AUT</td>\n",
       "      <td>8901064</td>\n",
       "      <td>Europe</td>\n",
       "    </tr>\n",
       "    <tr>\n",
       "      <th>9</th>\n",
       "      <td>06/05/2021</td>\n",
       "      <td>6</td>\n",
       "      <td>5</td>\n",
       "      <td>2021</td>\n",
       "      <td>1682</td>\n",
       "      <td>26</td>\n",
       "      <td>Austria</td>\n",
       "      <td>AT</td>\n",
       "      <td>AUT</td>\n",
       "      <td>8901064</td>\n",
       "      <td>Europe</td>\n",
       "    </tr>\n",
       "  </tbody>\n",
       "</table>\n",
       "</div>"
      ],
      "text/plain": [
       "      dateRep  day  month  year  cases  deaths countriesAndTerritories geoId  \\\n",
       "0  15/05/2021   15      5  2021    721      14                 Austria    AT   \n",
       "1  14/05/2021   14      5  2021   1100      11                 Austria    AT   \n",
       "2  13/05/2021   13      5  2021   1179      14                 Austria    AT   \n",
       "3  12/05/2021   12      5  2021    968      19                 Austria    AT   \n",
       "4  11/05/2021   11      5  2021    670      16                 Austria    AT   \n",
       "5  10/05/2021   10      5  2021   1009      11                 Austria    AT   \n",
       "6  09/05/2021    9      5  2021   1251      14                 Austria    AT   \n",
       "7  08/05/2021    8      5  2021   1383      23                 Austria    AT   \n",
       "8  07/05/2021    7      5  2021   1220       8                 Austria    AT   \n",
       "9  06/05/2021    6      5  2021   1682      26                 Austria    AT   \n",
       "\n",
       "  countryterritoryCode  popData2020 continentExp  \n",
       "0                  AUT      8901064       Europe  \n",
       "1                  AUT      8901064       Europe  \n",
       "2                  AUT      8901064       Europe  \n",
       "3                  AUT      8901064       Europe  \n",
       "4                  AUT      8901064       Europe  \n",
       "5                  AUT      8901064       Europe  \n",
       "6                  AUT      8901064       Europe  \n",
       "7                  AUT      8901064       Europe  \n",
       "8                  AUT      8901064       Europe  \n",
       "9                  AUT      8901064       Europe  "
      ]
     },
     "execution_count": 5,
     "metadata": {},
     "output_type": "execute_result"
    }
   ],
   "source": [
    "df_daily_report.head(10)"
   ]
  },
  {
   "cell_type": "code",
   "execution_count": 6,
   "id": "massive-tournament",
   "metadata": {},
   "outputs": [
    {
     "data": {
      "text/plain": [
       "(33993, 12)"
      ]
     },
     "execution_count": 6,
     "metadata": {},
     "output_type": "execute_result"
    }
   ],
   "source": [
    "df_vaccinations.shape"
   ]
  },
  {
   "cell_type": "code",
   "execution_count": 7,
   "id": "mighty-reminder",
   "metadata": {},
   "outputs": [
    {
     "data": {
      "text/plain": [
       "(2280, 11)"
      ]
     },
     "execution_count": 7,
     "metadata": {},
     "output_type": "execute_result"
    }
   ],
   "source": [
    "df_daily_report.shape"
   ]
  },
  {
   "cell_type": "markdown",
   "id": "combined-pound",
   "metadata": {},
   "source": [
    "Como se puede ver la dimensión del dataset de vacunas es de **(33993 filas x 12 columnas)**, mientras que la dimensión del dataset de casos reportados de covid es de **(2280 filas x 11 columnas)**.\n"
   ]
  },
  {
   "cell_type": "markdown",
   "id": "damaged-clock",
   "metadata": {},
   "source": [
    "A continuación se analizará la estructura y resumen de los datos, de esta forma se entenderá mejor los datasets."
   ]
  },
  {
   "cell_type": "code",
   "execution_count": 8,
   "id": "iraqi-place",
   "metadata": {},
   "outputs": [
    {
     "data": {
      "text/html": [
       "<div>\n",
       "<style scoped>\n",
       "    .dataframe tbody tr th:only-of-type {\n",
       "        vertical-align: middle;\n",
       "    }\n",
       "\n",
       "    .dataframe tbody tr th {\n",
       "        vertical-align: top;\n",
       "    }\n",
       "\n",
       "    .dataframe thead th {\n",
       "        text-align: right;\n",
       "    }\n",
       "</style>\n",
       "<table border=\"1\" class=\"dataframe\">\n",
       "  <thead>\n",
       "    <tr style=\"text-align: right;\">\n",
       "      <th></th>\n",
       "      <th>FirstDose</th>\n",
       "      <th>FirstDoseRefused</th>\n",
       "      <th>SecondDose</th>\n",
       "      <th>UnknownDose</th>\n",
       "      <th>NumberDosesReceived</th>\n",
       "      <th>Population</th>\n",
       "      <th>Denominator</th>\n",
       "    </tr>\n",
       "  </thead>\n",
       "  <tbody>\n",
       "    <tr>\n",
       "      <th>count</th>\n",
       "      <td>3.399300e+04</td>\n",
       "      <td>17726.000000</td>\n",
       "      <td>3.399300e+04</td>\n",
       "      <td>33993.000000</td>\n",
       "      <td>7.922000e+03</td>\n",
       "      <td>3.399300e+04</td>\n",
       "      <td>2.632500e+04</td>\n",
       "    </tr>\n",
       "    <tr>\n",
       "      <th>mean</th>\n",
       "      <td>9.970950e+03</td>\n",
       "      <td>3.032438</td>\n",
       "      <td>4.090276e+03</td>\n",
       "      <td>125.554349</td>\n",
       "      <td>3.905829e+04</td>\n",
       "      <td>2.719751e+07</td>\n",
       "      <td>1.992831e+06</td>\n",
       "    </tr>\n",
       "    <tr>\n",
       "      <th>std</th>\n",
       "      <td>5.506290e+04</td>\n",
       "      <td>41.881449</td>\n",
       "      <td>2.680053e+04</td>\n",
       "      <td>4977.676721</td>\n",
       "      <td>1.655509e+05</td>\n",
       "      <td>2.139818e+07</td>\n",
       "      <td>6.073288e+06</td>\n",
       "    </tr>\n",
       "    <tr>\n",
       "      <th>min</th>\n",
       "      <td>0.000000e+00</td>\n",
       "      <td>0.000000</td>\n",
       "      <td>0.000000e+00</td>\n",
       "      <td>0.000000</td>\n",
       "      <td>0.000000e+00</td>\n",
       "      <td>3.874700e+04</td>\n",
       "      <td>0.000000e+00</td>\n",
       "    </tr>\n",
       "    <tr>\n",
       "      <th>25%</th>\n",
       "      <td>0.000000e+00</td>\n",
       "      <td>0.000000</td>\n",
       "      <td>0.000000e+00</td>\n",
       "      <td>0.000000</td>\n",
       "      <td>0.000000e+00</td>\n",
       "      <td>5.525292e+06</td>\n",
       "      <td>1.426160e+05</td>\n",
       "    </tr>\n",
       "    <tr>\n",
       "      <th>50%</th>\n",
       "      <td>1.940000e+02</td>\n",
       "      <td>0.000000</td>\n",
       "      <td>1.000000e+00</td>\n",
       "      <td>0.000000</td>\n",
       "      <td>0.000000e+00</td>\n",
       "      <td>3.795814e+07</td>\n",
       "      <td>4.110030e+05</td>\n",
       "    </tr>\n",
       "    <tr>\n",
       "      <th>75%</th>\n",
       "      <td>3.294000e+03</td>\n",
       "      <td>0.000000</td>\n",
       "      <td>5.010000e+02</td>\n",
       "      <td>0.000000</td>\n",
       "      <td>7.200000e+03</td>\n",
       "      <td>3.795814e+07</td>\n",
       "      <td>1.339737e+06</td>\n",
       "    </tr>\n",
       "    <tr>\n",
       "      <th>max</th>\n",
       "      <td>3.353980e+06</td>\n",
       "      <td>1570.000000</td>\n",
       "      <td>1.006088e+06</td>\n",
       "      <td>427807.000000</td>\n",
       "      <td>5.231070e+06</td>\n",
       "      <td>8.316671e+07</td>\n",
       "      <td>6.948881e+07</td>\n",
       "    </tr>\n",
       "  </tbody>\n",
       "</table>\n",
       "</div>"
      ],
      "text/plain": [
       "          FirstDose  FirstDoseRefused    SecondDose    UnknownDose  \\\n",
       "count  3.399300e+04      17726.000000  3.399300e+04   33993.000000   \n",
       "mean   9.970950e+03          3.032438  4.090276e+03     125.554349   \n",
       "std    5.506290e+04         41.881449  2.680053e+04    4977.676721   \n",
       "min    0.000000e+00          0.000000  0.000000e+00       0.000000   \n",
       "25%    0.000000e+00          0.000000  0.000000e+00       0.000000   \n",
       "50%    1.940000e+02          0.000000  1.000000e+00       0.000000   \n",
       "75%    3.294000e+03          0.000000  5.010000e+02       0.000000   \n",
       "max    3.353980e+06       1570.000000  1.006088e+06  427807.000000   \n",
       "\n",
       "       NumberDosesReceived    Population   Denominator  \n",
       "count         7.922000e+03  3.399300e+04  2.632500e+04  \n",
       "mean          3.905829e+04  2.719751e+07  1.992831e+06  \n",
       "std           1.655509e+05  2.139818e+07  6.073288e+06  \n",
       "min           0.000000e+00  3.874700e+04  0.000000e+00  \n",
       "25%           0.000000e+00  5.525292e+06  1.426160e+05  \n",
       "50%           0.000000e+00  3.795814e+07  4.110030e+05  \n",
       "75%           7.200000e+03  3.795814e+07  1.339737e+06  \n",
       "max           5.231070e+06  8.316671e+07  6.948881e+07  "
      ]
     },
     "execution_count": 8,
     "metadata": {},
     "output_type": "execute_result"
    }
   ],
   "source": [
    "df_vaccinations.describe()"
   ]
  },
  {
   "cell_type": "code",
   "execution_count": 9,
   "id": "marked-squad",
   "metadata": {},
   "outputs": [
    {
     "data": {
      "text/html": [
       "<div>\n",
       "<style scoped>\n",
       "    .dataframe tbody tr th:only-of-type {\n",
       "        vertical-align: middle;\n",
       "    }\n",
       "\n",
       "    .dataframe tbody tr th {\n",
       "        vertical-align: top;\n",
       "    }\n",
       "\n",
       "    .dataframe thead th {\n",
       "        text-align: right;\n",
       "    }\n",
       "</style>\n",
       "<table border=\"1\" class=\"dataframe\">\n",
       "  <thead>\n",
       "    <tr style=\"text-align: right;\">\n",
       "      <th></th>\n",
       "      <th>day</th>\n",
       "      <th>month</th>\n",
       "      <th>year</th>\n",
       "      <th>cases</th>\n",
       "      <th>deaths</th>\n",
       "      <th>popData2020</th>\n",
       "    </tr>\n",
       "  </thead>\n",
       "  <tbody>\n",
       "    <tr>\n",
       "      <th>count</th>\n",
       "      <td>2280.000000</td>\n",
       "      <td>2280.000000</td>\n",
       "      <td>2280.0</td>\n",
       "      <td>2.280000e+03</td>\n",
       "      <td>2280.000000</td>\n",
       "      <td>2.280000e+03</td>\n",
       "    </tr>\n",
       "    <tr>\n",
       "      <th>mean</th>\n",
       "      <td>14.229386</td>\n",
       "      <td>3.788158</td>\n",
       "      <td>2021.0</td>\n",
       "      <td>1.398081e+04</td>\n",
       "      <td>312.013158</td>\n",
       "      <td>1.510301e+07</td>\n",
       "    </tr>\n",
       "    <tr>\n",
       "      <th>std</th>\n",
       "      <td>8.693631</td>\n",
       "      <td>0.749632</td>\n",
       "      <td>0.0</td>\n",
       "      <td>1.433877e+05</td>\n",
       "      <td>3690.788200</td>\n",
       "      <td>2.121913e+07</td>\n",
       "    </tr>\n",
       "    <tr>\n",
       "      <th>min</th>\n",
       "      <td>1.000000</td>\n",
       "      <td>2.000000</td>\n",
       "      <td>2021.0</td>\n",
       "      <td>-2.001000e+03</td>\n",
       "      <td>-5.000000</td>\n",
       "      <td>3.874700e+04</td>\n",
       "    </tr>\n",
       "    <tr>\n",
       "      <th>25%</th>\n",
       "      <td>7.000000</td>\n",
       "      <td>3.000000</td>\n",
       "      <td>2021.0</td>\n",
       "      <td>4.010000e+02</td>\n",
       "      <td>2.000000</td>\n",
       "      <td>2.095861e+06</td>\n",
       "    </tr>\n",
       "    <tr>\n",
       "      <th>50%</th>\n",
       "      <td>13.000000</td>\n",
       "      <td>4.000000</td>\n",
       "      <td>2021.0</td>\n",
       "      <td>1.132000e+03</td>\n",
       "      <td>17.000000</td>\n",
       "      <td>6.387122e+06</td>\n",
       "    </tr>\n",
       "    <tr>\n",
       "      <th>75%</th>\n",
       "      <td>22.000000</td>\n",
       "      <td>4.000000</td>\n",
       "      <td>2021.0</td>\n",
       "      <td>4.962500e+03</td>\n",
       "      <td>94.000000</td>\n",
       "      <td>1.152244e+07</td>\n",
       "    </tr>\n",
       "    <tr>\n",
       "      <th>max</th>\n",
       "      <td>31.000000</td>\n",
       "      <td>5.000000</td>\n",
       "      <td>2021.0</td>\n",
       "      <td>3.755968e+06</td>\n",
       "      <td>97699.000000</td>\n",
       "      <td>8.316671e+07</td>\n",
       "    </tr>\n",
       "  </tbody>\n",
       "</table>\n",
       "</div>"
      ],
      "text/plain": [
       "               day        month    year         cases        deaths  \\\n",
       "count  2280.000000  2280.000000  2280.0  2.280000e+03   2280.000000   \n",
       "mean     14.229386     3.788158  2021.0  1.398081e+04    312.013158   \n",
       "std       8.693631     0.749632     0.0  1.433877e+05   3690.788200   \n",
       "min       1.000000     2.000000  2021.0 -2.001000e+03     -5.000000   \n",
       "25%       7.000000     3.000000  2021.0  4.010000e+02      2.000000   \n",
       "50%      13.000000     4.000000  2021.0  1.132000e+03     17.000000   \n",
       "75%      22.000000     4.000000  2021.0  4.962500e+03     94.000000   \n",
       "max      31.000000     5.000000  2021.0  3.755968e+06  97699.000000   \n",
       "\n",
       "        popData2020  \n",
       "count  2.280000e+03  \n",
       "mean   1.510301e+07  \n",
       "std    2.121913e+07  \n",
       "min    3.874700e+04  \n",
       "25%    2.095861e+06  \n",
       "50%    6.387122e+06  \n",
       "75%    1.152244e+07  \n",
       "max    8.316671e+07  "
      ]
     },
     "execution_count": 9,
     "metadata": {},
     "output_type": "execute_result"
    }
   ],
   "source": [
    "df_daily_report.describe()"
   ]
  },
  {
   "cell_type": "markdown",
   "id": "advanced-marking",
   "metadata": {},
   "source": [
    "Tipos de variable de los datasets:"
   ]
  },
  {
   "cell_type": "code",
   "execution_count": 10,
   "id": "cognitive-library",
   "metadata": {},
   "outputs": [
    {
     "name": "stdout",
     "output_type": "stream",
     "text": [
      " YearWeekISO - object\n",
      " FirstDose - int64\n",
      " FirstDoseRefused - float64\n",
      " SecondDose - int64\n",
      " UnknownDose - int64\n",
      " NumberDosesReceived - float64\n",
      " Region - object\n",
      " Population - int64\n",
      " ReportingCountry - object\n",
      " TargetGroup - object\n",
      " Vaccine - object\n",
      " Denominator - float64\n"
     ]
    }
   ],
   "source": [
    "for key,value in df_vaccinations.dtypes.iteritems():\n",
    "        print(f' {key} - {value}')"
   ]
  },
  {
   "cell_type": "code",
   "execution_count": 11,
   "id": "fifty-deposit",
   "metadata": {},
   "outputs": [
    {
     "name": "stdout",
     "output_type": "stream",
     "text": [
      " dateRep - object\n",
      " day - int64\n",
      " month - int64\n",
      " year - int64\n",
      " cases - int64\n",
      " deaths - int64\n",
      " countriesAndTerritories - object\n",
      " geoId - object\n",
      " countryterritoryCode - object\n",
      " popData2020 - int64\n",
      " continentExp - object\n"
     ]
    }
   ],
   "source": [
    "for key,value in df_daily_report.dtypes.iteritems():\n",
    "        print(f' {key} - {value}')"
   ]
  },
  {
   "cell_type": "markdown",
   "id": "false-lindsay",
   "metadata": {},
   "source": [
    "Como se puede observar la mayoría de datos son de tipo integer, por lo general las columnas con tipo de datos object son de tipo String."
   ]
  },
  {
   "cell_type": "markdown",
   "id": "nutritional-adult",
   "metadata": {},
   "source": [
    "### Descripción de variables"
   ]
  },
  {
   "cell_type": "markdown",
   "id": "suspected-nirvana",
   "metadata": {},
   "source": [
    "A continuación se describe las variables que se han considerado para esta exploración."
   ]
  },
  {
   "cell_type": "markdown",
   "id": "quarterly-consumption",
   "metadata": {},
   "source": [
    "- **Data on COVID-19 vaccination in the EU/EEA**\n",
    "\n",
    "|Campo|Descripción|Tipo|\n",
    "|---|:---:|:---:|\n",
    "|YearWeekISO| - Fecha que se ha administrado la vacuna| string |\n",
    "|FirstDose | - Número de la primera dosis de vacuna administrada durante la semana reportada | int64 |\n",
    "|FirstDoseRefused| - Número de personas que rechazan la primera dosis de la vacuna. | float64 |\n",
    "|SecondDose| - Número de vacunas de segunda dosis administradas a individuos durante la semana del informe | int64 |\n",
    "|UnknownDose| - Número de dosis administradas durante la semana del informe en las que no se especificó el tipo de dosis | int64 |\n",
    "|NumberDosesReceived| - Número de dosis de vacunas distribuidas por los fabricantes en el país durante la semana del informe | float64 |\n",
    "|Region| - Como mínimo, los datos se comunican a nivel nacional (Región = código de país).  | string |\n",
    "|Population| - Población por edades del país| int64 |\n",
    "|ReportingCountry| - ISO 3166-1-alpha-2 | string |\n",
    "|TargetGroup| - Grupo objetivo de la vacunación | object |\n",
    "|Vaccine| - Nombre de la vacuna. Se añadirán vacunas adicionales cuando se apruebe o se solicite | object |\n",
    "|Denominator| - Denominadores de la población para los grupos objetivo | float64 |\n",
    "\n"
   ]
  },
  {
   "cell_type": "markdown",
   "id": "scenic-honey",
   "metadata": {},
   "source": [
    "- **Data on the daily number of new reported COVID-19 cases and deaths by EU/EEA country**\n",
    "\n",
    "|Campo|Descripción|Tipo|\n",
    "|---|:---:|:---:|\n",
    "|dateRep| - Fecha que se ha reportado el caso “dd/mm/yyyy”| string |\n",
    "|day| - Día del caso reportado | unit8 |\n",
    "|month| - Mes del caso reportado | unit8 |\n",
    "|year| - Año del caso reportado | unit8 |\n",
    "|cases| - Número de nuevos casos reportados | int64 |\n",
    "|deaths| - Número de casos de muertes reportados | int64 |\n",
    "|countriesAndterritories| - Nombre de los paísdes o territorio | string |\n",
    "|geoId| - Código de geolocalización de dos carácteres | string |\n",
    "|countriesAndterritoryCode| - Código ISO | string |\n",
    "|popData2020| - Datos Eurostat 2020 | int64 |\n",
    "|continentExp| - Nombre del continente reportado | string |"
   ]
  },
  {
   "cell_type": "markdown",
   "id": "encouraging-terror",
   "metadata": {},
   "source": [
    "## 2.1 Exploración"
   ]
  },
  {
   "cell_type": "markdown",
   "id": "ideal-upset",
   "metadata": {},
   "source": [
    "Miramos si tenemos datos nulos."
   ]
  },
  {
   "cell_type": "code",
   "execution_count": 12,
   "id": "royal-study",
   "metadata": {},
   "outputs": [],
   "source": [
    "for key,value in df_daily_report.isnull().sum().iteritems():\n",
    "    if value > 0:\n",
    "        print(f' {key} - {value}')"
   ]
  },
  {
   "cell_type": "code",
   "execution_count": 13,
   "id": "similar-heading",
   "metadata": {},
   "outputs": [
    {
     "data": {
      "text/plain": [
       "<AxesSubplot:>"
      ]
     },
     "execution_count": 13,
     "metadata": {},
     "output_type": "execute_result"
    },
    {
     "data": {
      "image/png": "[encoded data removed]",
      "text/plain": [
       "<Figure size 1080x360 with 1 Axes>"
      ]
     },
     "metadata": {
      "needs_background": "light"
     },
     "output_type": "display_data"
    }
   ],
   "source": [
    "fig, ax = plt.subplots(figsize=(15,5))\n",
    "sns.heatmap(df_daily_report.isnull(), cbar=False, vmin=0, vmax=0.7, cmap=\"YlGnBu\", ax=ax)"
   ]
  },
  {
   "cell_type": "code",
   "execution_count": 14,
   "id": "hybrid-weapon",
   "metadata": {},
   "outputs": [
    {
     "name": "stdout",
     "output_type": "stream",
     "text": [
      " FirstDoseRefused - 16267\n",
      " NumberDosesReceived - 26071\n",
      " Denominator - 7668\n"
     ]
    }
   ],
   "source": [
    "for key,value in df_vaccinations.isnull().sum().iteritems():\n",
    "    if value > 0:\n",
    "        print(f' {key} - {value}')"
   ]
  },
  {
   "cell_type": "code",
   "execution_count": 15,
   "id": "theoretical-criminal",
   "metadata": {},
   "outputs": [
    {
     "data": {
      "text/plain": [
       "<AxesSubplot:>"
      ]
     },
     "execution_count": 15,
     "metadata": {},
     "output_type": "execute_result"
    },
    {
     "data": {
      "image/png": "[encoded data removed]",
      "text/plain": [
       "<Figure size 1080x360 with 1 Axes>"
      ]
     },
     "metadata": {
      "needs_background": "light"
     },
     "output_type": "display_data"
    }
   ],
   "source": [
    "fig, ax = plt.subplots(figsize=(15,5))\n",
    "sns.heatmap(df_vaccinations.isnull(), cbar=False, vmin=0, vmax=0.7, cmap=\"YlGnBu\", ax=ax)"
   ]
  },
  {
   "cell_type": "markdown",
   "id": "classical-joining",
   "metadata": {},
   "source": [
    "Del dataset de vacunas tenemos datos nulos, como se puede ver en el heatmap en color azul tenemos la cantidad de datos nulos sobre el total del dataset, en total tenemos tres columnas con nulos: `FirstDoseRefused` :16267 , `NumberDosesReceived`:26071 y `Denominator`:7668.  Por otro lado del datset de casos diarios de COVID reportados no tenemos datos nulos."
   ]
  },
  {
   "cell_type": "markdown",
   "id": "nasty-response",
   "metadata": {},
   "source": [
    "A continuación exploraremos los datos que tenemos, mostraremos algunos histogramas de algunas de las variables en el dataset: \n",
    "- **Data on COVID-19 vaccination in the EU/EEA**"
   ]
  },
  {
   "cell_type": "code",
   "execution_count": 16,
   "id": "quick-chance",
   "metadata": {},
   "outputs": [
    {
     "data": {
      "text/plain": [
       "Text(0.5, 1.0, 'Número de vacunados por semanas')"
      ]
     },
     "execution_count": 16,
     "metadata": {},
     "output_type": "execute_result"
    },
    {
     "data": {
      "image/png": "[encoded data removed]",
      "text/plain": [
       "<Figure size 1080x504 with 1 Axes>"
      ]
     },
     "metadata": {
      "needs_background": "light"
     },
     "output_type": "display_data"
    }
   ],
   "source": [
    "plt.figure(figsize=(15,7))\n",
    "g = sns.barplot(x=\"YearWeekISO\", y=\"NumberDosesReceived\", ci=None ,data=df_vaccinations)\n",
    "g.set_xticklabels(g.get_xticklabels(), \n",
    "                          rotation=90, \n",
    "                          horizontalalignment='right')\n",
    "plt.title(\"Número de vacunados por semanas\")"
   ]
  },
  {
   "cell_type": "markdown",
   "id": "identical-concern",
   "metadata": {},
   "source": [
    "Se puede observar que en la semana número 17 del 2021 fue cuando se administró mas dosis."
   ]
  },
  {
   "cell_type": "code",
   "execution_count": 17,
   "id": "unusual-ivory",
   "metadata": {},
   "outputs": [
    {
     "data": {
      "text/plain": [
       "Text(0.5, 1.0, 'Número de vacunados de la segunda dosis por país')"
      ]
     },
     "execution_count": 17,
     "metadata": {},
     "output_type": "execute_result"
    },
    {
     "data": {
      "image/png": "[encoded data removed]",
      "text/plain": [
       "<Figure size 1080x504 with 1 Axes>"
      ]
     },
     "metadata": {
      "needs_background": "light"
     },
     "output_type": "display_data"
    }
   ],
   "source": [
    "plt.figure(figsize=(15,7))\n",
    "sns.barplot(x=\"ReportingCountry\", y=\"SecondDose\", ci=None, data=df_vaccinations)\n",
    "plt.title(\"Número de vacunados de la segunda dosis por país\")"
   ]
  },
  {
   "cell_type": "markdown",
   "id": "celtic-bacteria",
   "metadata": {},
   "source": [
    "Alemania es el país que se ha administrado más la segunda dosis."
   ]
  },
  {
   "cell_type": "code",
   "execution_count": 18,
   "id": "reduced-transition",
   "metadata": {},
   "outputs": [
    {
     "data": {
      "text/plain": [
       "Text(0.5, 1.0, 'Número de dosis recibidas por país')"
      ]
     },
     "execution_count": 18,
     "metadata": {},
     "output_type": "execute_result"
    },
    {
     "data": {
      "image/png": "[encoded data removed]",
      "text/plain": [
       "<Figure size 1080x504 with 1 Axes>"
      ]
     },
     "metadata": {
      "needs_background": "light"
     },
     "output_type": "display_data"
    }
   ],
   "source": [
    "plt.figure(figsize=(15,7))\n",
    "sns.barplot(x=\"ReportingCountry\", y=\"NumberDosesReceived\",ci=None, data=df_vaccinations)\n",
    "plt.title(\"Número de dosis recibidas por país\")"
   ]
  },
  {
   "cell_type": "markdown",
   "id": "lightweight-clause",
   "metadata": {},
   "source": [
    "Alemania, Italia y España son los países que más vacunas han administrado."
   ]
  },
  {
   "cell_type": "code",
   "execution_count": 19,
   "id": "cooperative-society",
   "metadata": {},
   "outputs": [
    {
     "data": {
      "text/plain": [
       "array(['MOD', 'COM', 'JANSS', 'AZ', 'UNK', 'SPU', 'BECNBG'], dtype=object)"
      ]
     },
     "execution_count": 19,
     "metadata": {},
     "output_type": "execute_result"
    }
   ],
   "source": [
    "df_vaccinations.Vaccine.unique()"
   ]
  },
  {
   "cell_type": "code",
   "execution_count": 20,
   "id": "fundamental-boards",
   "metadata": {},
   "outputs": [
    {
     "data": {
      "text/plain": [
       "Text(0.5, 1.0, 'Número de dosis recibidas por tipo de vacunas')"
      ]
     },
     "execution_count": 20,
     "metadata": {},
     "output_type": "execute_result"
    },
    {
     "data": {
      "image/png": "[encoded data removed]",
      "text/plain": [
       "<Figure size 1080x504 with 1 Axes>"
      ]
     },
     "metadata": {
      "needs_background": "light"
     },
     "output_type": "display_data"
    }
   ],
   "source": [
    "plt.figure(figsize=(15,7))\n",
    "sns.barplot(x=\"Vaccine\", y=\"NumberDosesReceived\", ci=None, data=df_vaccinations)\n",
    "plt.title(\"Número de dosis recibidas por tipo de vacunas\")"
   ]
  },
  {
   "cell_type": "markdown",
   "id": "broadband-brief",
   "metadata": {},
   "source": [
    "Las vacunas más administradas en Europa son:\n",
    "- CN = BBIBV-CorV –CNBG\n",
    "- SPU = Sputnik V -Gamaleya \n",
    "- COM = Comirnaty –Pfizer/BioNTech"
   ]
  },
  {
   "cell_type": "code",
   "execution_count": 21,
   "id": "critical-hamilton",
   "metadata": {},
   "outputs": [
    {
     "data": {
      "text/plain": [
       "Text(0.5, 1.0, 'Número de dosis recibidas por rango de edad')"
      ]
     },
     "execution_count": 21,
     "metadata": {},
     "output_type": "execute_result"
    },
    {
     "data": {
      "image/png": "[encoded data removed]",
      "text/plain": [
       "<Figure size 1080x504 with 1 Axes>"
      ]
     },
     "metadata": {
      "needs_background": "light"
     },
     "output_type": "display_data"
    }
   ],
   "source": [
    "plt.figure(figsize=(15,7))\n",
    "sns.barplot(x=\"TargetGroup\", y=\"NumberDosesReceived\", ci=None, data=df_vaccinations)\n",
    "plt.title(\"Número de dosis recibidas por rango de edad\")"
   ]
  },
  {
   "cell_type": "markdown",
   "id": "rational-reasoning",
   "metadata": {},
   "source": [
    "El rango de edad que más dosis de vacunas ha recivido es 1_age<60 y 1_Age60+\n",
    "- (1_Age<60 = below 60 years of age1_Age60+ = 60 years and over)"
   ]
  },
  {
   "cell_type": "markdown",
   "id": "labeled-cornell",
   "metadata": {},
   "source": [
    "- **Data on the daily number of new reported COVID-19 cases and deaths by EU/EEA country**"
   ]
  },
  {
   "cell_type": "code",
   "execution_count": 22,
   "id": "warming-oasis",
   "metadata": {},
   "outputs": [
    {
     "name": "stdout",
     "output_type": "stream",
     "text": [
      "['Europe']\n",
      "[2021]\n"
     ]
    }
   ],
   "source": [
    "print(df_daily_report.continentExp.unique())\n",
    "print(df_daily_report.year.unique())"
   ]
  },
  {
   "cell_type": "markdown",
   "id": "superb-badge",
   "metadata": {},
   "source": [
    "Los datos solo representan Europa y en el año 2021"
   ]
  },
  {
   "cell_type": "code",
   "execution_count": 23,
   "id": "innocent-investing",
   "metadata": {},
   "outputs": [
    {
     "data": {
      "text/plain": [
       "Text(0.5, 1.0, 'Casos de COVID reportados por país')"
      ]
     },
     "execution_count": 23,
     "metadata": {},
     "output_type": "execute_result"
    },
    {
     "data": {
      "image/png": "[encoded data removed]",
      "text/plain": [
       "<Figure size 1080x504 with 1 Axes>"
      ]
     },
     "metadata": {
      "needs_background": "light"
     },
     "output_type": "display_data"
    }
   ],
   "source": [
    "plt.figure(figsize=(15,7))\n",
    "sns.barplot(x=\"countryterritoryCode\", y=\"cases\", ci=None, data=df_daily_report)\n",
    "plt.title(\"Casos de COVID reportados por país\")"
   ]
  },
  {
   "cell_type": "markdown",
   "id": "spread-housing",
   "metadata": {},
   "source": [
    "Los países con más casos reportados son Francia, Italia, Alemania y España."
   ]
  },
  {
   "cell_type": "code",
   "execution_count": 24,
   "id": "elect-continent",
   "metadata": {},
   "outputs": [
    {
     "data": {
      "text/plain": [
       "Text(0.5, 1.0, 'Muertes de COVID reportados por país')"
      ]
     },
     "execution_count": 24,
     "metadata": {},
     "output_type": "execute_result"
    },
    {
     "data": {
      "image/png": "[encoded data removed]",
      "text/plain": [
       "<Figure size 1080x504 with 1 Axes>"
      ]
     },
     "metadata": {
      "needs_background": "light"
     },
     "output_type": "display_data"
    }
   ],
   "source": [
    "plt.figure(figsize=(15,7))\n",
    "sns.barplot(x=\"countryterritoryCode\", y=\"deaths\", ci=None, data=df_daily_report)\n",
    "plt.title(\"Muertes de COVID reportados por país\")"
   ]
  },
  {
   "cell_type": "markdown",
   "id": "republican-somalia",
   "metadata": {},
   "source": [
    "Los países con más muertes reportadas por COVID son:\n",
    "- Italia\n",
    "- Francia\n",
    "- Alemania\n",
    "- España\n",
    "- Polonia"
   ]
  },
  {
   "cell_type": "code",
   "execution_count": 25,
   "id": "selective-outside",
   "metadata": {},
   "outputs": [
    {
     "data": {
      "text/plain": [
       "Text(0.5, 1.0, 'Casos de COVID reportados por mes')"
      ]
     },
     "execution_count": 25,
     "metadata": {},
     "output_type": "execute_result"
    },
    {
     "data": {
      "image/png": "[encoded data removed]",
      "text/plain": [
       "<Figure size 1080x504 with 1 Axes>"
      ]
     },
     "metadata": {
      "needs_background": "light"
     },
     "output_type": "display_data"
    }
   ],
   "source": [
    "plt.figure(figsize=(15,7))\n",
    "sns.barplot(x=\"month\", y=\"cases\", ci=None, data=df_daily_report)\n",
    "plt.title(\"Casos de COVID reportados por mes\")"
   ]
  },
  {
   "cell_type": "code",
   "execution_count": 26,
   "id": "indirect-three",
   "metadata": {},
   "outputs": [
    {
     "data": {
      "text/plain": [
       "Text(0.5, 1.0, 'Muertes de COVID reportados por mes')"
      ]
     },
     "execution_count": 26,
     "metadata": {},
     "output_type": "execute_result"
    },
    {
     "data": {
      "image/png": "[encoded data removed]",
      "text/plain": [
       "<Figure size 1080x504 with 1 Axes>"
      ]
     },
     "metadata": {
      "needs_background": "light"
     },
     "output_type": "display_data"
    }
   ],
   "source": [
    "plt.figure(figsize=(15,7))\n",
    "sns.barplot(x=\"month\", y=\"deaths\", ci=None, data=df_daily_report)\n",
    "plt.title(\"Muertes de COVID reportados por mes\")"
   ]
  },
  {
   "cell_type": "markdown",
   "id": "present-place",
   "metadata": {},
   "source": [
    "En el mes de febrero se ha reportados más casos y más muertes por COVID."
   ]
  },
  {
   "cell_type": "markdown",
   "id": "significant-prospect",
   "metadata": {},
   "source": [
    "<div class=\"flourish-embed\" data-src=\"story/861606\"><script src=\"https://public.flourish.studio/resources/embed.js\"></script></div>"
   ]
  },
  {
   "cell_type": "code",
   "execution_count": null,
   "id": "attempted-madonna",
   "metadata": {},
   "outputs": [],
   "source": []
  }
 ],
 "metadata": {
  "kernelspec": {
   "display_name": "Python 3",
   "language": "python",
   "name": "python3"
  },
  "language_info": {
   "codemirror_mode": {
    "name": "ipython",
    "version": 3
   },
   "file_extension": ".py",
   "mimetype": "text/x-python",
   "name": "python",
   "nbconvert_exporter": "python",
   "pygments_lexer": "ipython3",
   "version": "3.8.8"
  }
 },
 "nbformat": 4,
 "nbformat_minor": 5
}
